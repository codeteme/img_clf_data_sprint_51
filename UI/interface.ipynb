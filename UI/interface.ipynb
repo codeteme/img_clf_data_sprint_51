{
 "cells": [
  {
   "cell_type": "code",
   "execution_count": 1,
   "metadata": {},
   "outputs": [],
   "source": [
    "#import lib\n",
    "import tkinter as tk\n",
    "from tkinter import filedialog\n",
    "from tkinter import *\n",
    "from matplotlib.pyplot import imread\n",
    "import tensorflow as tf\n",
    "import tensorflow_hub as hub\n",
    "import numpy as np\n",
    "from PIL import ImageTk, Image"
   ]
  },
  {
   "cell_type": "code",
   "execution_count": 2,
   "metadata": {},
   "outputs": [
    {
     "name": "stdout",
     "output_type": "stream",
     "text": [
      "_________________________________\n",
      "..........Start loading..........\n",
      "_________________________________\n",
      "...........Model Loaded..........\n",
      "_________________________________\n"
     ]
    }
   ],
   "source": [
    "\n",
    "#import model\n",
    "print('_________________________________')\n",
    "print('..........Start loading..........')\n",
    "\n",
    "model = tf.keras.models.load_model('../my_keras_model.h5', custom_objects={\n",
    "                                   \"KerasLayer\": hub.KerasLayer})\n",
    "\n",
    "print('_________________________________')\n",
    "print('...........Model Loaded..........')\n",
    "print('_________________________________')\n",
    "\n",
    "# List to label all class.\n",
    "labels =  ['elefante', 'farfalla', 'mucca', 'pecora', 'scoiattolo']"
   ]
  },
  {
   "cell_type": "code",
   "execution_count": 3,
   "metadata": {},
   "outputs": [],
   "source": [
    "top = tk.Tk()\n",
    "top.geometry('800x600')\n",
    "def callback():\n",
    "   Label(top, text=\"Hello World!\", font=('Century 20 bold')).pack(pady=4)\n",
    "btn=Button(top, text=\"Press Enter\", command= callback)\n",
    "btn.pack(ipadx=10)\n",
    "top.bind('<Return>',lambda event:callback())\n",
    "top.mainloop()"
   ]
  },
  {
   "cell_type": "code",
   "execution_count": null,
   "metadata": {},
   "outputs": [],
   "source": [
    "# initialise GUI\n",
    "top = tk.Tk()\n",
    "top.geometry('800x600')\n",
    "top.title('Dog_VS_Cat Classification')\n",
    "top.configure(background='#CDCDCD')\n",
    "label = Label(top, background='#CDCDCD', font=('arial', 15, 'bold'))\n",
    "sign_image = Label(top)\n"
   ]
  },
  {
   "cell_type": "code",
   "execution_count": null,
   "metadata": {},
   "outputs": [],
   "source": [
    "batch_size = 32\n",
    "img_height = 256\n",
    "img_width = 256\n",
    "\n",
    "#To classify an image\n",
    "def classify(file_path):\n",
    "    global label_packed\n",
    "    image = imread(file_path)\n",
    "    image = tf.image.convert_image_dtype(image, tf.float32)\n",
    "    image = tf.image.resize(image, size=[img_height, img_width])\n",
    "    image = np.expand_dims(image, axis=0)\n",
    "    pred = model.predict(image)\n",
    "    sign = labels[np.argmax(pred)]\n",
    "    print(sign)\n",
    "    label.configure(foreground='#011638', text=sign)"
   ]
  },
  {
   "cell_type": "code",
   "execution_count": null,
   "metadata": {},
   "outputs": [],
   "source": [
    "#Button\n",
    "def show_classify_button(file_path):\n",
    "    classify_b = Button(top, text=\"Classify Image\",\n",
    "                        command=lambda: classify(file_path),\n",
    "                        padx=10, pady=5)\n",
    "    classify_b.configure(background='#364156', foreground='white',\n",
    "                         font=('arial', 10, 'bold'))\n",
    "    classify_b.place(relx=0.79, rely=0.46)"
   ]
  },
  {
   "cell_type": "code",
   "execution_count": null,
   "metadata": {},
   "outputs": [],
   "source": [
    "#Upload image\n",
    "def upload_image():\n",
    "    try:\n",
    "        file_path = filedialog.askopenfilename()\n",
    "        uploaded = Image.open(file_path)\n",
    "        uploaded.thumbnail(((top.winfo_width()/2.25),\n",
    "                            (top.winfo_height()/2.25)))\n",
    "        im = ImageTk.PhotoImage(uploaded)\n",
    "        sign_image.configure(image=im)\n",
    "        sign_image.image = im\n",
    "        label.configure(text='')\n",
    "        show_classify_button(file_path)\n",
    "    except:\n",
    "        pass\n",
    "\n",
    "upload = Button(top, text=\"Upload an image\",\n",
    "                command=upload_image, padx=10, pady=5)\n",
    "upload.configure(background='#364156', foreground='white',\n",
    "                 font=('arial', 10, 'bold'))\n",
    "upload.pack(side=BOTTOM, pady=50)\n",
    "sign_image.pack(side=BOTTOM, expand=True)\n",
    "label.pack(side=BOTTOM, expand=True)\n",
    "heading = Label(top, text=\"Image Classification\",\n",
    "                pady=20, font=('arial', 20, 'bold'))\n",
    "heading.configure(background='#CDCDCD', foreground='#364156')\n",
    "heading.pack()\n",
    "top.mainloop()"
   ]
  },
  {
   "cell_type": "code",
   "execution_count": null,
   "metadata": {},
   "outputs": [],
   "source": []
  }
 ],
 "metadata": {
  "interpreter": {
   "hash": "7d9279c439293cd56693e7c05115c53cbb1633ee63d7052d68a345e17a860490"
  },
  "kernelspec": {
   "display_name": "Python 3.9.6 64-bit ('csx433env': conda)",
   "name": "python3"
  },
  "language_info": {
   "codemirror_mode": {
    "name": "ipython",
    "version": 3
   },
   "file_extension": ".py",
   "mimetype": "text/x-python",
   "name": "python",
   "nbconvert_exporter": "python",
   "pygments_lexer": "ipython3",
   "version": "3.9.6"
  },
  "orig_nbformat": 4
 },
 "nbformat": 4,
 "nbformat_minor": 2
}
